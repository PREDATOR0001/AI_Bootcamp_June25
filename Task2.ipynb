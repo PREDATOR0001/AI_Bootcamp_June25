{
  "nbformat": 4,
  "nbformat_minor": 0,
  "metadata": {
    "colab": {
      "provenance": []
    },
    "kernelspec": {
      "name": "python3",
      "display_name": "Python 3"
    },
    "language_info": {
      "name": "python"
    }
  },
  "cells": [
    {
      "cell_type": "code",
      "execution_count": 8,
      "metadata": {
        "colab": {
          "base_uri": "https://localhost:8080/"
        },
        "id": "jFvXgJxScuSw",
        "outputId": "d09edace-997c-4436-d944-b6ea77e0554c"
      },
      "outputs": [
        {
          "output_type": "stream",
          "name": "stdout",
          "text": [
            "Hello World\n",
            "5\n",
            "Predator\n"
          ]
        }
      ],
      "source": [
        "#comment\n",
        "'''comment'''\n",
        "x=5\n",
        "y=\"Predator\"\n",
        "print(\"Hello World\")\n",
        "print(x)\n",
        "print(y)"
      ]
    }
  ]
}
